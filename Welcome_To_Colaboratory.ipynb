{
  "nbformat": 4,
  "nbformat_minor": 0,
  "metadata": {
    "colab": {
      "name": "Welcome To Colaboratory",
      "provenance": [],
      "collapsed_sections": [],
      "toc_visible": true,
      "include_colab_link": true
    },
    "kernelspec": {
      "display_name": "Python 3",
      "name": "python3"
    }
  },
  "cells": [
    {
      "cell_type": "markdown",
      "metadata": {
        "id": "view-in-github",
        "colab_type": "text"
      },
      "source": [
        "<a href=\"https://colab.research.google.com/github/Umesh5245/-Coursera-Practical-Machine-Learning-Week-4-Peer-graded-Assignment/blob/master/Welcome_To_Colaboratory.ipynb\" target=\"_parent\"><img src=\"https://colab.research.google.com/assets/colab-badge.svg\" alt=\"Open In Colab\"/></a>"
      ]
    },
    {
      "cell_type": "code",
      "metadata": {
        "id": "PbOpjQWmaxri"
      },
      "source": [
        "!unzip compressed_file_name.zip\n"
      ],
      "execution_count": null,
      "outputs": []
    },
    {
      "cell_type": "code",
      "metadata": {
        "id": "KRVfpbCPaeTI"
      },
      "source": [
        "pip install -r requirements.txt"
      ],
      "execution_count": null,
      "outputs": []
    },
    {
      "cell_type": "code",
      "metadata": {
        "id": "OXytJk73aulV",
        "outputId": "5dc9fe6f-dbe0-45f4-eab3-fe6093fae35f",
        "colab": {
          "base_uri": "https://localhost:8080/"
        }
      },
      "source": [
        "!python \"src/emotions.py\" --mode train"
      ],
      "execution_count": 16,
      "outputs": [
        {
          "output_type": "stream",
          "text": [
            "2021-04-11 15:51:30.513772: W tensorflow/stream_executor/platform/default/dso_loader.cc:55] Could not load dynamic library 'libnvinfer.so.6'; dlerror: libnvinfer.so.6: cannot open shared object file: No such file or directory; LD_LIBRARY_PATH: /usr/local/nvidia/lib:/usr/local/nvidia/lib64\n",
            "2021-04-11 15:51:30.513928: W tensorflow/stream_executor/platform/default/dso_loader.cc:55] Could not load dynamic library 'libnvinfer_plugin.so.6'; dlerror: libnvinfer_plugin.so.6: cannot open shared object file: No such file or directory; LD_LIBRARY_PATH: /usr/local/nvidia/lib:/usr/local/nvidia/lib64\n",
            "2021-04-11 15:51:30.513951: W tensorflow/compiler/tf2tensorrt/utils/py_utils.cc:30] Cannot dlopen some TensorRT libraries. If you would like to use Nvidia GPU with TensorRT, please make sure the missing libraries mentioned above are installed properly.\n",
            "Found 28709 images belonging to 7 classes.\n",
            "Found 7178 images belonging to 7 classes.\n",
            "2021-04-11 15:51:33.535840: E tensorflow/stream_executor/cuda/cuda_driver.cc:351] failed call to cuInit: CUDA_ERROR_NO_DEVICE: no CUDA-capable device is detected\n",
            "WARNING:tensorflow:From src/emotions.py:97: Model.fit_generator (from tensorflow.python.keras.engine.training) is deprecated and will be removed in a future version.\n",
            "Instructions for updating:\n",
            "Please use Model.fit, which supports generators.\n",
            "WARNING:tensorflow:sample_weight modes were coerced from\n",
            "  ...\n",
            "    to  \n",
            "  ['...']\n",
            "WARNING:tensorflow:sample_weight modes were coerced from\n",
            "  ...\n",
            "    to  \n",
            "  ['...']\n",
            "Train for 448 steps, validate for 112 steps\n",
            "Epoch 1/10\n",
            "448/448 [==============================] - 405s 905ms/step - loss: 1.7997 - accuracy: 0.2610 - val_loss: 1.7268 - val_accuracy: 0.3453\n",
            "Epoch 2/10\n",
            "448/448 [==============================] - 403s 899ms/step - loss: 1.6332 - accuracy: 0.3653 - val_loss: 1.5558 - val_accuracy: 0.4053\n",
            "Epoch 3/10\n",
            "448/448 [==============================] - 405s 903ms/step - loss: 1.5305 - accuracy: 0.4113 - val_loss: 1.4666 - val_accuracy: 0.4358\n",
            "Epoch 4/10\n",
            "448/448 [==============================] - 403s 899ms/step - loss: 1.4523 - accuracy: 0.4432 - val_loss: 1.3939 - val_accuracy: 0.4724\n",
            "Epoch 5/10\n",
            "448/448 [==============================] - 403s 899ms/step - loss: 1.3891 - accuracy: 0.4704 - val_loss: 1.3375 - val_accuracy: 0.4932\n",
            "Epoch 6/10\n",
            "448/448 [==============================] - 401s 895ms/step - loss: 1.3334 - accuracy: 0.4943 - val_loss: 1.2933 - val_accuracy: 0.5073\n",
            "Epoch 7/10\n",
            "448/448 [==============================] - 403s 899ms/step - loss: 1.2847 - accuracy: 0.5137 - val_loss: 1.2588 - val_accuracy: 0.5208\n",
            "Epoch 8/10\n",
            "448/448 [==============================] - 404s 901ms/step - loss: 1.2510 - accuracy: 0.5277 - val_loss: 1.2330 - val_accuracy: 0.5371\n",
            "Epoch 9/10\n",
            "448/448 [==============================] - 403s 900ms/step - loss: 1.2145 - accuracy: 0.5376 - val_loss: 1.2170 - val_accuracy: 0.5346\n",
            "Epoch 10/10\n",
            "448/448 [==============================] - 403s 900ms/step - loss: 1.1867 - accuracy: 0.5539 - val_loss: 1.1833 - val_accuracy: 0.5550\n",
            "src/emotions.py:31: MatplotlibDeprecationWarning: Passing the minor parameter of set_xticks() positionally is deprecated since Matplotlib 3.2; the parameter will become keyword-only two minor releases later.\n",
            "  axs[0].set_xticks(np.arange(1,len(model_history.history['accuracy'])+1),len(model_history.history['accuracy'])/10)\n",
            "src/emotions.py:39: MatplotlibDeprecationWarning: Passing the minor parameter of set_xticks() positionally is deprecated since Matplotlib 3.2; the parameter will become keyword-only two minor releases later.\n",
            "  axs[1].set_xticks(np.arange(1,len(model_history.history['loss'])+1),len(model_history.history['loss'])/10)\n",
            "<Figure size 1500x500 with 2 Axes>\n"
          ],
          "name": "stdout"
        }
      ]
    },
    {
      "cell_type": "code",
      "metadata": {
        "id": "xyaclhGkxNCU",
        "outputId": "fcd0d341-9454-46b8-dd22-d3d00a4f5497",
        "colab": {
          "base_uri": "https://localhost:8080/"
        }
      },
      "source": [
        "!python \"src/emotions.py\" --mode display\n"
      ],
      "execution_count": 18,
      "outputs": [
        {
          "output_type": "stream",
          "text": [
            "2021-04-11 17:02:52.112847: W tensorflow/stream_executor/platform/default/dso_loader.cc:55] Could not load dynamic library 'libnvinfer.so.6'; dlerror: libnvinfer.so.6: cannot open shared object file: No such file or directory; LD_LIBRARY_PATH: /usr/local/nvidia/lib:/usr/local/nvidia/lib64\n",
            "2021-04-11 17:02:52.113017: W tensorflow/stream_executor/platform/default/dso_loader.cc:55] Could not load dynamic library 'libnvinfer_plugin.so.6'; dlerror: libnvinfer_plugin.so.6: cannot open shared object file: No such file or directory; LD_LIBRARY_PATH: /usr/local/nvidia/lib:/usr/local/nvidia/lib64\n",
            "2021-04-11 17:02:52.113041: W tensorflow/compiler/tf2tensorrt/utils/py_utils.cc:30] Cannot dlopen some TensorRT libraries. If you would like to use Nvidia GPU with TensorRT, please make sure the missing libraries mentioned above are installed properly.\n",
            "Found 28709 images belonging to 7 classes.\n",
            "Found 7178 images belonging to 7 classes.\n",
            "2021-04-11 17:02:55.033642: E tensorflow/stream_executor/cuda/cuda_driver.cc:351] failed call to cuInit: CUDA_ERROR_NO_DEVICE: no CUDA-capable device is detected\n",
            "[ WARN:0] global /io/opencv/modules/videoio/src/cap_v4l.cpp (802) open VIDEOIO ERROR: V4L: can't open camera by index 0\n"
          ],
          "name": "stdout"
        }
      ]
    }
  ]
}